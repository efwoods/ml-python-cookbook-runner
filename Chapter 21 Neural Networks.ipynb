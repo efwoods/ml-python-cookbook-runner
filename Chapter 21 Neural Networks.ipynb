{
 "cells": [
  {
   "cell_type": "markdown",
   "id": "81e61c1d",
   "metadata": {},
   "source": [
    "# Chapter 21: Neural Networks"
   ]
  },
  {
   "cell_type": "markdown",
   "id": "12ee3b39",
   "metadata": {},
   "source": [
    "## 21.1: Using Autograd with PyTorch"
   ]
  },
  {
   "cell_type": "code",
   "execution_count": 3,
   "id": "1088a0e8",
   "metadata": {},
   "outputs": [
    {
     "data": {
      "text/plain": [
       "tensor([1., 2., 3.], requires_grad=True)"
      ]
     },
     "execution_count": 3,
     "metadata": {},
     "output_type": "execute_result"
    }
   ],
   "source": [
    "# use PyTorch's autograd features to compute and store the gradients after undergoing forward and backward propagation.\n",
    "\n",
    "# Import libraries\n",
    "import torch\n",
    "\n",
    "# Create a torch tensor that requires gradients\n",
    "t = torch.tensor([1.0, 2.0, 3.0], requires_grad=True)\n",
    "t"
   ]
  },
  {
   "cell_type": "code",
   "execution_count": 5,
   "id": "7ffee924",
   "metadata": {},
   "outputs": [
    {
     "data": {
      "text/plain": [
       "tensor(6., grad_fn=<SumBackward0>)"
      ]
     },
     "execution_count": 5,
     "metadata": {},
     "output_type": "execute_result"
    }
   ],
   "source": [
    "# Perform a tensor operation simulating \"forward propagation\"\n",
    "tensor_sum = t.sum()\n",
    "tensor_sum"
   ]
  },
  {
   "cell_type": "code",
   "execution_count": 13,
   "id": "94569d50",
   "metadata": {},
   "outputs": [],
   "source": [
    "# Perform back propagation\n",
    "tensor_sum.backward()"
   ]
  },
  {
   "cell_type": "code",
   "execution_count": 12,
   "id": "99faddb7",
   "metadata": {},
   "outputs": [
    {
     "data": {
      "text/plain": [
       "tensor([1., 1., 1.])"
      ]
     },
     "execution_count": 12,
     "metadata": {},
     "output_type": "execute_result"
    }
   ],
   "source": [
    "# View gradients\n",
    "t.grad"
   ]
  },
  {
   "cell_type": "markdown",
   "id": "a1bfc6be",
   "metadata": {},
   "source": [
    "## 21.2 Preprocessing Data for Neural Networks"
   ]
  },
  {
   "cell_type": "code",
   "execution_count": 18,
   "id": "6615220d",
   "metadata": {},
   "outputs": [
    {
     "name": "stdout",
     "output_type": "stream",
     "text": [
      "Collecting scikit-learn\n",
      "  Downloading scikit_learn-1.3.0-cp310-cp310-manylinux_2_17_aarch64.manylinux2014_aarch64.whl (10.3 MB)\n",
      "\u001b[2K     \u001b[90m━━━━━━━━━━━━━━━━━━━━━━━━━━━━━━━━━━━━━━━━\u001b[0m \u001b[32m10.3/10.3 MB\u001b[0m \u001b[31m25.1 MB/s\u001b[0m eta \u001b[36m0:00:00\u001b[0m00:01\u001b[0m0:01\u001b[0m\n",
      "\u001b[?25hRequirement already satisfied: numpy>=1.17.3 in /usr/local/lib/python3.10/site-packages (from scikit-learn) (1.24.3)\n",
      "Requirement already satisfied: scipy>=1.5.0 in /usr/local/lib/python3.10/site-packages (from scikit-learn) (1.11.1)\n",
      "Requirement already satisfied: joblib>=1.1.1 in /usr/local/lib/python3.10/site-packages (from scikit-learn) (1.3.1)\n",
      "Collecting threadpoolctl>=2.0.0\n",
      "  Downloading threadpoolctl-3.2.0-py3-none-any.whl (15 kB)\n",
      "Installing collected packages: threadpoolctl, scikit-learn\n",
      "Successfully installed scikit-learn-1.3.0 threadpoolctl-3.2.0\n",
      "\u001b[33mWARNING: Running pip as the 'root' user can result in broken permissions and conflicting behaviour with the system package manager. It is recommended to use a virtual environment instead: https://pip.pypa.io/warnings/venv\u001b[0m\u001b[33m\n",
      "\u001b[0m\n",
      "\u001b[1m[\u001b[0m\u001b[34;49mnotice\u001b[0m\u001b[1;39;49m]\u001b[0m\u001b[39;49m A new release of pip is available: \u001b[0m\u001b[31;49m23.0.1\u001b[0m\u001b[39;49m -> \u001b[0m\u001b[32;49m23.2\u001b[0m\n",
      "\u001b[1m[\u001b[0m\u001b[34;49mnotice\u001b[0m\u001b[1;39;49m]\u001b[0m\u001b[39;49m To update, run: \u001b[0m\u001b[32;49mpip install --upgrade pip\u001b[0m\n"
     ]
    }
   ],
   "source": [
    "!pip install scikit-learn"
   ]
  },
  {
   "cell_type": "code",
   "execution_count": 19,
   "id": "f1302d42",
   "metadata": {},
   "outputs": [],
   "source": [
    "# Load libraries\n",
    "from sklearn import preprocessing\n",
    "import numpy as np"
   ]
  },
  {
   "cell_type": "code",
   "execution_count": 20,
   "id": "58908b4f",
   "metadata": {},
   "outputs": [],
   "source": [
    "# Create feature\n",
    "features = np.array([[-100.1, 3240.1],\n",
    "                    [-200.2, -234.1],\n",
    "                     [5000.5, 150.1],\n",
    "                     [6000.6, -125.1],\n",
    "                     [9000.9, -673.1],\n",
    "                    ])"
   ]
  },
  {
   "cell_type": "code",
   "execution_count": 21,
   "id": "549bfb5a",
   "metadata": {},
   "outputs": [],
   "source": [
    "# Create scaler\n",
    "scaler = preprocessing.StandardScaler()"
   ]
  },
  {
   "cell_type": "code",
   "execution_count": 22,
   "id": "6388363e",
   "metadata": {},
   "outputs": [],
   "source": [
    "# Convert to a tensor\n",
    "features_standardized_tensor = torch.from_numpy(features)"
   ]
  },
  {
   "cell_type": "code",
   "execution_count": 23,
   "id": "2ffcb4aa",
   "metadata": {},
   "outputs": [
    {
     "data": {
      "text/plain": [
       "tensor([[-100.1000, 3240.1000],\n",
       "        [-200.2000, -234.1000],\n",
       "        [5000.5000,  150.1000],\n",
       "        [6000.6000, -125.1000],\n",
       "        [9000.9000, -673.1000]], dtype=torch.float64)"
      ]
     },
     "execution_count": 23,
     "metadata": {},
     "output_type": "execute_result"
    }
   ],
   "source": [
    "# Show features\n",
    "features_standardized_tensor"
   ]
  },
  {
   "cell_type": "code",
   "execution_count": 26,
   "id": "99316779",
   "metadata": {},
   "outputs": [
    {
     "data": {
      "text/plain": [
       "tensor([[-1.1254,  1.9643],\n",
       "        [-1.1533, -0.5007],\n",
       "        [ 0.2953, -0.2281],\n",
       "        [ 0.5739, -0.4234],\n",
       "        [ 1.4096, -0.8122]], grad_fn=<DivBackward0>)"
      ]
     },
     "execution_count": 26,
     "metadata": {},
     "output_type": "execute_result"
    }
   ],
   "source": [
    "# Compute the mean and standard deviation\n",
    "import torch\n",
    "\n",
    "torch_features = torch.tensor([[-100.1, 3240.1],\n",
    "                               [-200.2000, -234.1000],\n",
    "        [5000.5000,  150.1000],\n",
    "        [6000.6000, -125.1000],\n",
    "        [9000.9000, -673.1000],\n",
    "                              ], requires_grad=True)\n",
    "\n",
    "# Compute the mean and standard deviation\n",
    "mean = torch_features.mean(0, keepdim=True)\n",
    "standard_deviation = torch_features.std(0, unbiased=False, keepdim=True)\n",
    "\n",
    "# Standardize the features using the mean and standard deviation\n",
    "torch_features_standardized = torch_features - mean\n",
    "torch_features_standardized /= standard_deviation\n",
    "\n",
    "# Show standardized features\n",
    "torch_features_standardized"
   ]
  },
  {
   "cell_type": "markdown",
   "id": "054ee46a",
   "metadata": {},
   "source": [
    "## 21.3 Designing a Neural Network"
   ]
  },
  {
   "cell_type": "code",
   "execution_count": 31,
   "id": "849b65bf",
   "metadata": {},
   "outputs": [
    {
     "data": {
      "text/plain": [
       "SimpleNeuralNet(\n",
       "  (fc1): Linear(in_features=10, out_features=16, bias=True)\n",
       "  (fc2): Linear(in_features=16, out_features=16, bias=True)\n",
       "  (fc3): Linear(in_features=16, out_features=1, bias=True)\n",
       ")"
      ]
     },
     "execution_count": 31,
     "metadata": {},
     "output_type": "execute_result"
    }
   ],
   "source": [
    "# Import Libraries\n",
    "import torch\n",
    "import torch.nn as nn\n",
    "\n",
    "# Define a neural network\n",
    "class SimpleNeuralNet(nn.Module):\n",
    "    def __init__(self):\n",
    "        super(SimpleNeuralNet, self).__init__()\n",
    "        self.fc1 = nn.Linear(10,16)\n",
    "        self.fc2 = nn.Linear(16,16)\n",
    "        self.fc3 = nn.Linear(16,1)\n",
    "        \n",
    "    def forward(self, x):\n",
    "        x = nn.functional.relu(self.fc1(x))\n",
    "        x = nn.functional.relu(self.fc2(x))\n",
    "        x = nn.funcitonal.sigmoid(self.fc3(x))\n",
    "        return x\n",
    "    \n",
    "# Initialize the neural network\n",
    "network = SimpleNeuralNet()\n",
    "\n",
    "# Define loss function, optimizer\n",
    "loss_criterion = nn.BCELoss()\n",
    "optimizer = torch.optim.RMSprop(network.parameters())\n",
    "\n",
    "# Show the network\n",
    "network"
   ]
  },
  {
   "cell_type": "markdown",
   "id": "3c43634a",
   "metadata": {},
   "source": [
    "## 21.4: Training a Binary Classifier"
   ]
  },
  {
   "cell_type": "code",
   "execution_count": 41,
   "id": "d0df2776",
   "metadata": {},
   "outputs": [
    {
     "name": "stdout",
     "output_type": "stream",
     "text": [
      "Epoch: 1 \tLoss: 0.19006992876529694\n",
      "Epoch: 2 \tLoss: 0.14092367887496948\n",
      "Epoch: 3 \tLoss: 0.03935524821281433\n",
      "Test Loss: 0.06877756118774414 \tTest Accuracy: 0.9700000286102295\n"
     ]
    }
   ],
   "source": [
    "import torch\n",
    "import torch.nn as nn\n",
    "import numpy as np\n",
    "from torch.utils.data import DataLoader, TensorDataset\n",
    "from torch.optim import RMSprop\n",
    "\n",
    "from sklearn.datasets import make_classification\n",
    "from sklearn.model_selection import train_test_split\n",
    "\n",
    "# Create training and test sets\n",
    "features, target = make_classification(n_classes=2, n_features=10, n_samples=1000)\n",
    "features_train, features_test, target_train, target_test = train_test_split(features, target, test_size=0.1, random_state=1)\n",
    "\n",
    "# Set random seed\n",
    "torch.manual_seed(0)\n",
    "np.random.seed(0)\n",
    "\n",
    "# Convert data to PyTorch tensors\n",
    "x_train = torch.from_numpy(features_train).float()\n",
    "y_train = torch.from_numpy(target_train).float().view(-1,1)\n",
    "x_test = torch.from_numpy(features_test).float()\n",
    "y_test = torch.from_numpy(target_test).float().view(-1,1)\n",
    "\n",
    "\n",
    "# Define a neural network using `Sequential`\n",
    "class SimpleNeuralNet(nn.Module):\n",
    "    def __init__(self):\n",
    "        super(SimpleNeuralNet, self).__init__()\n",
    "        self.sequential = torch.nn.Sequential(\n",
    "        torch.nn.Linear(10,16),\n",
    "        torch.nn.ReLU(),\n",
    "        torch.nn.Linear(16,16),\n",
    "        torch.nn.ReLU(),\n",
    "        torch.nn.Linear(16,1),\n",
    "        torch.nn.Sigmoid()\n",
    "        )\n",
    "        \n",
    "    def forward(self,x):\n",
    "        x = self.sequential(x)\n",
    "        return x\n",
    "    \n",
    "# Initialize neural network\n",
    "network = SimpleNeuralNet()\n",
    "\n",
    "# Define loss function, optimizer\n",
    "criterion = nn.BCELoss()\n",
    "optimizer = RMSprop(network.parameters())\n",
    "\n",
    "# Define data loader\n",
    "train_data = TensorDataset(x_train, y_train)\n",
    "train_loader = DataLoader(train_data, batch_size=100, shuffle=True)\n",
    "\n",
    "# Complie the model using torch 2.0's optimizer\n",
    "network = torch.compile(network)\n",
    "\n",
    "# Train neural network\n",
    "epochs = 3\n",
    "for epoch in range(epochs):\n",
    "    for batch_idx, (data, target) in enumerate(train_loader):\n",
    "        optimizer.zero_grad()\n",
    "        output = network(data)\n",
    "        loss = criterion(output, target)\n",
    "        loss.backward()\n",
    "        optimizer.step()\n",
    "    print(\"Epoch:\", epoch+1, \"\\tLoss:\", loss.item())\n",
    "    \n",
    "# Evaluate neural network\n",
    "with torch.no_grad():\n",
    "    output = network(x_test)\n",
    "    test_loss = criterion(output, y_test)\n",
    "    test_accuracy = (output.round() == y_test).float().mean()\n",
    "    print(\"Test Loss:\", test_loss.item(), \"\\tTest Accuracy:\", test_accuracy.item())"
   ]
  },
  {
   "cell_type": "markdown",
   "id": "8c864e70",
   "metadata": {},
   "source": [
    "# 21.5: Training a Multiclass Classifier"
   ]
  },
  {
   "cell_type": "code",
   "execution_count": 50,
   "id": "98930f9c",
   "metadata": {},
   "outputs": [],
   "source": [
    "# Import libraries\n",
    "import torch\n",
    "import torch.nn as nn\n",
    "import numpy as np\n",
    "from torch.utils.data import DataLoader, TensorDataset\n",
    "from torch.optim import RMSprop\n",
    "\n",
    "from sklearn.datasets import make_classification\n",
    "from sklearn.model_selection import train_test_split"
   ]
  },
  {
   "cell_type": "code",
   "execution_count": 51,
   "id": "959fe839",
   "metadata": {},
   "outputs": [],
   "source": [
    "N_CLASSES=3\n",
    "EPOCHS=3"
   ]
  },
  {
   "cell_type": "code",
   "execution_count": 52,
   "id": "f30f3e03",
   "metadata": {},
   "outputs": [],
   "source": [
    "# Create training and test sets\n",
    "features, target = make_classification(n_classes=N_CLASSES, n_informative=9, n_redundant=0, n_features=10, n_samples=1000)\n",
    "features_train, features_test, target_train, target_test = train_test_split(features, target, test_size=0.1, random_state=1)"
   ]
  },
  {
   "cell_type": "code",
   "execution_count": 53,
   "id": "ede3b4bb",
   "metadata": {},
   "outputs": [],
   "source": [
    "# Set random seed\n",
    "torch.manual_seed(0)\n",
    "np.random.seed(0)"
   ]
  },
  {
   "cell_type": "code",
   "execution_count": 54,
   "id": "38d14c4b",
   "metadata": {},
   "outputs": [],
   "source": [
    "# Convert data to PyTorch Tensors\n",
    "x_train = torch.from_numpy(features_train).float()\n",
    "y_train = torch.nn.functional.one_hot(torch.from_numpy(target_train).long(), num_classes=N_CLASSES).float()\n",
    "x_test = torch.from_numpy(features_test).float()\n",
    "y_test = torch.nn.functional.one_hot(torch.from_numpy(target_test).long(), num_classes=N_CLASSES).float()"
   ]
  },
  {
   "cell_type": "code",
   "execution_count": 57,
   "id": "2b64ffed",
   "metadata": {},
   "outputs": [],
   "source": [
    "# Define a neural network using `Sequential`\n",
    "class SimpleNeuralNet(nn.Module):\n",
    "    def __init__(self):\n",
    "        super(SimpleNeuralNet, self).__init__()\n",
    "        self.sequential = torch.nn.Sequential(\n",
    "        torch.nn.Linear(10,16),\n",
    "        torch.nn.ReLU(),\n",
    "        torch.nn.Linear(16,16),\n",
    "        torch.nn.ReLU(),\n",
    "        torch.nn.Linear(16,3),\n",
    "        torch.nn.Softmax()\n",
    "        )\n",
    "    \n",
    "    def forward(self, x):\n",
    "        x = self.sequential(x)\n",
    "        return x\n",
    "    "
   ]
  },
  {
   "cell_type": "code",
   "execution_count": 58,
   "id": "48364570",
   "metadata": {},
   "outputs": [],
   "source": [
    "# Initialize neural network\n",
    "network = SimpleNeuralNet()"
   ]
  },
  {
   "cell_type": "code",
   "execution_count": 59,
   "id": "6b754e24",
   "metadata": {},
   "outputs": [],
   "source": [
    "# Define loss funciton, optimizer\n",
    "criterion = nn.CrossEntropyLoss()\n",
    "optimizer = RMSprop(network.parameters())"
   ]
  },
  {
   "cell_type": "code",
   "execution_count": 60,
   "id": "d8399df4",
   "metadata": {},
   "outputs": [],
   "source": [
    "# Define data loader\n",
    "train_data = TensorDataset(x_train, y_train)\n",
    "train_loader = DataLoader(train_data, batch_size=100, shuffle=True)"
   ]
  },
  {
   "cell_type": "code",
   "execution_count": 61,
   "id": "d84a9931",
   "metadata": {},
   "outputs": [],
   "source": [
    "# Compile the modelusing torch 2.0's optimizer\n",
    "network = torch.compile(network)"
   ]
  },
  {
   "cell_type": "code",
   "execution_count": 62,
   "id": "b468f905",
   "metadata": {},
   "outputs": [
    {
     "name": "stderr",
     "output_type": "stream",
     "text": [
      "/usr/local/lib/python3.10/site-packages/torch/_dynamo/utils.py:1199: UserWarning: Implicit dimension choice for softmax has been deprecated. Change the call to include dim=X as an argument.\n",
      "  return nnmodule(*args, **kwargs)\n",
      "/usr/local/lib/python3.10/site-packages/torch/nn/functional.py:1839: UserWarning: Implicit dimension choice for softmax has been deprecated. Change the call to include dim=X as an argument.\n",
      "  return handle_torch_function(softmax, (input,), input, dim=dim, _stacklevel=_stacklevel, dtype=dtype)\n",
      "/usr/local/lib/python3.10/site-packages/torch/nn/functional.py:1839: UserWarning: Implicit dimension choice for softmax has been deprecated. Change the call to include dim=X as an argument.\n",
      "  return handle_torch_function(softmax, (input,), input, dim=dim, _stacklevel=_stacklevel, dtype=dtype)\n",
      "/usr/local/lib/python3.10/site-packages/torch/nn/functional.py:1839: UserWarning: Implicit dimension choice for softmax has been deprecated. Change the call to include dim=X as an argument.\n",
      "  return handle_torch_function(softmax, (input,), input, dim=dim, _stacklevel=_stacklevel, dtype=dtype)\n"
     ]
    },
    {
     "name": "stdout",
     "output_type": "stream",
     "text": [
      "Epoch: 1 \tLoss: 0.876740574836731\n",
      "Epoch: 2 \tLoss: 0.7814866900444031\n",
      "Epoch: 3 \tLoss: 0.8236222267150879\n"
     ]
    }
   ],
   "source": [
    "# Train neural network\n",
    "for epoch in range(EPOCHS):\n",
    "    for batch_idx, (data, target) in enumerate(train_loader):\n",
    "        optimizer.zero_grad()\n",
    "        output = network(data)\n",
    "        loss = criterion(output, target)\n",
    "        loss.backward()\n",
    "        optimizer.step()\n",
    "    print(\"Epoch:\", epoch+1, \"\\tLoss:\", loss.item())"
   ]
  },
  {
   "cell_type": "code",
   "execution_count": 63,
   "id": "5133ece6",
   "metadata": {},
   "outputs": [
    {
     "name": "stdout",
     "output_type": "stream",
     "text": [
      "Test Loss: 0.7872670888900757 \tTest Accuracy: 0.846666693687439\n"
     ]
    }
   ],
   "source": [
    "# Evaluate neural network\n",
    "with torch.no_grad():\n",
    "    output = network(x_test)\n",
    "    test_loss = criterion(output, y_test)\n",
    "    test_accuracy = (output.round() == y_test).float().mean()\n",
    "    print(\"Test Loss:\", test_loss.item(), \"\\tTest Accuracy:\", test_accuracy.item())"
   ]
  },
  {
   "cell_type": "markdown",
   "id": "5f0562a6",
   "metadata": {},
   "source": [
    "# 21.6 Training a Regressor"
   ]
  },
  {
   "cell_type": "code",
   "execution_count": 66,
   "id": "7fd1811c",
   "metadata": {},
   "outputs": [],
   "source": [
    "# Import libraries\n",
    "import torch\n",
    "import torch.nn as nn\n",
    "import numpy as np\n",
    "from torch.utils.data import DataLoader, TensorDataset\n",
    "from torch.optim import RMSprop\n",
    "\n",
    "from sklearn.datasets import make_regression\n",
    "from sklearn.model_selection import train_test_split"
   ]
  },
  {
   "cell_type": "code",
   "execution_count": 67,
   "id": "8329e46f",
   "metadata": {},
   "outputs": [],
   "source": [
    "EPOCHS=5"
   ]
  },
  {
   "cell_type": "code",
   "execution_count": 68,
   "id": "1f614565",
   "metadata": {},
   "outputs": [],
   "source": [
    "# Create training and test sets\n",
    "features, target = make_regression(n_features=10, n_samples=1000)\n",
    "features_train, features_test, target_train, target_test = train_test_split(\n",
    "    features, target, test_size=0.1, random_state=1\n",
    ")"
   ]
  },
  {
   "cell_type": "code",
   "execution_count": 69,
   "id": "519f6856",
   "metadata": {},
   "outputs": [],
   "source": [
    "# Set random seed\n",
    "torch.manual_seed(0)\n",
    "np.random.seed(0)"
   ]
  },
  {
   "cell_type": "code",
   "execution_count": 70,
   "id": "ab938bfb",
   "metadata": {},
   "outputs": [],
   "source": [
    "# Convert data to PyTorch tensors\n",
    "x_train = torch.from_numpy(features_train).float()\n",
    "y_train = torch.from_numpy(target_train).float().view(-1,1)\n",
    "x_test = torch.from_numpy(features_test).float()\n",
    "y_test = torch.from_numpy(target_test).float().view(-1,1)"
   ]
  },
  {
   "cell_type": "code",
   "execution_count": 71,
   "id": "245661f5",
   "metadata": {},
   "outputs": [],
   "source": [
    "# Define a neural network using `Sequential`\n",
    "class SimpleNeuralNet(nn.Module):\n",
    "    def __init__(self):\n",
    "        super(SimpleNeuralNet, self).__init__()\n",
    "        self.sequential = torch.nn.Sequential(\n",
    "        torch.nn.Linear(10,16),\n",
    "        torch.nn.ReLU(),\n",
    "        torch.nn.Linear(16,16),\n",
    "        torch.nn.ReLU(),\n",
    "        torch.nn.Linear(16,1),\n",
    "        )\n",
    "        \n",
    "    def forward(self, x):\n",
    "        x = self.sequential(x)\n",
    "        return x\n",
    "    "
   ]
  },
  {
   "cell_type": "code",
   "execution_count": 72,
   "id": "bd74d3e2",
   "metadata": {},
   "outputs": [],
   "source": [
    "# Initialize neural network\n",
    "network = SimpleNeuralNet()"
   ]
  },
  {
   "cell_type": "code",
   "execution_count": 73,
   "id": "94cdf028",
   "metadata": {},
   "outputs": [],
   "source": [
    "# Define loss funciton, optimizer\n",
    "criterion = nn.MSELoss()\n",
    "optimizer = RMSprop(network.parameters())\n",
    "\n",
    "# Define data loader\n",
    "train_data = TensorDataset(x_train, y_train)\n",
    "train_loader = DataLoader(train_data, batch_size=100, shuffle=True)"
   ]
  },
  {
   "cell_type": "code",
   "execution_count": 74,
   "id": "72bd66e3",
   "metadata": {},
   "outputs": [
    {
     "name": "stdout",
     "output_type": "stream",
     "text": [
      "Epoch: 1 \tLoss: 10764.02734375\n",
      "Epoch: 2 \tLoss: 1356.5101318359375\n",
      "Epoch: 3 \tLoss: 504.9664306640625\n",
      "Epoch: 4 \tLoss: 199.11305236816406\n",
      "Epoch: 5 \tLoss: 191.20843505859375\n",
      "Test MSE: 162.24505615234375\n"
     ]
    }
   ],
   "source": [
    "# Compile the model usingtorch 2.0's optimizer\n",
    "network = torch.compile(network)\n",
    "\n",
    "# Train neural network\n",
    "for epoch in range(EPOCHS):\n",
    "    for batch_idx, (data, target) in enumerate(train_loader):\n",
    "        optimizer.zero_grad()\n",
    "        output = network(data)\n",
    "        loss = criterion(output, target)\n",
    "        loss.backward()\n",
    "        optimizer.step()\n",
    "    print(\"Epoch:\", epoch+1, \"\\tLoss:\", loss.item())\n",
    "    \n",
    "# Evaluate neural network\n",
    "with torch.no_grad():\n",
    "    output = network(x_test)\n",
    "    test_loss = float(criterion(output, y_test))\n",
    "    print(\"Test MSE:\", test_loss)"
   ]
  },
  {
   "cell_type": "markdown",
   "id": "516c821a",
   "metadata": {},
   "source": [
    "# 21.7 Making Predictions"
   ]
  },
  {
   "cell_type": "code",
   "execution_count": null,
   "id": "ec69f537",
   "metadata": {},
   "outputs": [],
   "source": [
    "import torch\n",
    "import torch.nn as nn\n",
    "import numpy as np\n",
    "from torch.utils.data import DataLoader, TensorDataset\n",
    "from torch.optim import RMSprop\n",
    "\n",
    "from sklearn.datasets import make_classification\n",
    "from sklearn.model_selection import train_test_split"
   ]
  },
  {
   "cell_type": "code",
   "execution_count": 76,
   "id": "74e60007",
   "metadata": {},
   "outputs": [],
   "source": [
    "# Create training and test sets\n",
    "features, target = make_classification(n_classes=2, n_features=10, n_samples=1000)\n",
    "features_train, features_test, target_train, target_test = train_test_split(features, target, test_size=0.1, random_state=1)"
   ]
  },
  {
   "cell_type": "code",
   "execution_count": 78,
   "id": "d1dbc5ab",
   "metadata": {},
   "outputs": [],
   "source": [
    "# Set random seed\n",
    "torch.manual_seed(0)\n",
    "np.random.seed(0)"
   ]
  },
  {
   "cell_type": "code",
   "execution_count": 79,
   "id": "602bc49e",
   "metadata": {},
   "outputs": [],
   "source": [
    "# Convert data to PyTorch tensors\n",
    "x_train = torch.from_numpy(features_train).float()\n",
    "y_train = torch.from_numpy(target_train).float().view(-1,1)\n",
    "x_test = torch.from_numpy(features_test).float()\n",
    "y_test = torch.from_numpy(target_test).float().view(-1,1)"
   ]
  },
  {
   "cell_type": "code",
   "execution_count": 86,
   "id": "b9008d3f",
   "metadata": {},
   "outputs": [],
   "source": [
    "# Define a neural network using `Sequential`\n",
    "class SimpleNeuralNet(nn.Module):\n",
    "    def __init__(self):\n",
    "        super(SimpleNeuralNet, self).__init__()\n",
    "        self.sequential = torch.nn.Sequential(\n",
    "        torch.nn.Linear(10, 16),\n",
    "        torch.nn.ReLU(),\n",
    "        torch.nn.Linear(16,16),\n",
    "        torch.nn.ReLU(),\n",
    "        torch.nn.Linear(16,1),\n",
    "        torch.nn.Sigmoid()\n",
    "        )\n",
    "        \n",
    "    def forward(self, x):\n",
    "        x = self.sequential(x)\n",
    "        return x\n",
    "        "
   ]
  },
  {
   "cell_type": "code",
   "execution_count": 87,
   "id": "fa02df83",
   "metadata": {},
   "outputs": [],
   "source": [
    "# Initialize neural network\n",
    "network = SimpleNeuralNet()\n",
    "\n",
    "# Define loss function, optimizer\n",
    "criterion = nn.BCELoss()\n",
    "optimizer = RMSprop(network.parameters())"
   ]
  },
  {
   "cell_type": "code",
   "execution_count": 88,
   "id": "459ce9cd",
   "metadata": {},
   "outputs": [],
   "source": [
    "# Define data loader\n",
    "train_data = TensorDataset(x_train, y_train)\n",
    "train_loader = DataLoader(train_data, batch_size=100, shuffle=True)"
   ]
  },
  {
   "cell_type": "code",
   "execution_count": 89,
   "id": "5de85e37",
   "metadata": {},
   "outputs": [],
   "source": [
    "# Compile the model using torch 2.0's optimizer\n",
    "network = torch.compile(network)"
   ]
  },
  {
   "cell_type": "code",
   "execution_count": 90,
   "id": "4a6eadd8",
   "metadata": {},
   "outputs": [
    {
     "name": "stdout",
     "output_type": "stream",
     "text": [
      "Epoch: 1 \tLoss: 0.7182153463363647\n",
      "Epoch: 1 \tLoss: 0.6419549584388733\n",
      "Epoch: 1 \tLoss: 0.4749661684036255\n",
      "Epoch: 1 \tLoss: 0.2865818738937378\n",
      "Epoch: 1 \tLoss: 0.30659642815589905\n",
      "Epoch: 1 \tLoss: 0.33796313405036926\n",
      "Epoch: 1 \tLoss: 0.24506324529647827\n",
      "Epoch: 1 \tLoss: 0.33408480882644653\n",
      "Epoch: 1 \tLoss: 0.2464074343442917\n",
      "Epoch: 2 \tLoss: 0.26005712151527405\n",
      "Epoch: 2 \tLoss: 0.3161916434764862\n",
      "Epoch: 2 \tLoss: 0.2325180470943451\n",
      "Epoch: 2 \tLoss: 0.23238269984722137\n",
      "Epoch: 2 \tLoss: 0.18770301342010498\n",
      "Epoch: 2 \tLoss: 0.22502198815345764\n",
      "Epoch: 2 \tLoss: 0.1781996339559555\n",
      "Epoch: 2 \tLoss: 0.37014317512512207\n",
      "Epoch: 2 \tLoss: 0.22912479937076569\n",
      "Epoch: 3 \tLoss: 0.2251403033733368\n",
      "Epoch: 3 \tLoss: 0.20594514906406403\n",
      "Epoch: 3 \tLoss: 0.19998258352279663\n",
      "Epoch: 3 \tLoss: 0.3263750970363617\n",
      "Epoch: 3 \tLoss: 0.27294883131980896\n",
      "Epoch: 3 \tLoss: 0.2742905914783478\n",
      "Epoch: 3 \tLoss: 0.20667648315429688\n",
      "Epoch: 3 \tLoss: 0.18153294920921326\n",
      "Epoch: 3 \tLoss: 0.22946105897426605\n"
     ]
    },
    {
     "data": {
      "text/plain": [
       "tensor([1.])"
      ]
     },
     "execution_count": 90,
     "metadata": {},
     "output_type": "execute_result"
    }
   ],
   "source": [
    "# Train neural network\n",
    "epochs = 3\n",
    "for epoch in range(epochs):\n",
    "    for batch_idx, (data, target) in enumerate(train_loader):\n",
    "        optimizer.zero_grad()\n",
    "        output = network(data)\n",
    "        loss = criterion(output, target)\n",
    "        loss.backward()\n",
    "        optimizer.step()\n",
    "        print(\"Epoch:\", epoch+1, \"\\tLoss:\", loss.item())\n",
    "        \n",
    "# Evaluate neural network\n",
    "with torch.no_grad():\n",
    "    predicted_class = network.forward(x_train).round()\n",
    "    \n",
    "predicted_class[0]"
   ]
  },
  {
   "cell_type": "markdown",
   "id": "0d196d11",
   "metadata": {},
   "source": [
    "# 21.8 Visualize Training History"
   ]
  },
  {
   "cell_type": "code",
   "execution_count": 110,
   "id": "c96b0650",
   "metadata": {},
   "outputs": [],
   "source": [
    "# Load libraries\n",
    "import torch\n",
    "import torch.nn as nn\n",
    "from torch.utils.data import DataLoader, TensorDataset\n",
    "from torch.optim import RMSprop\n",
    "\n",
    "from sklearn.datasets import make_classification\n",
    "from sklearn.model_selection import train_test_split\n",
    "\n",
    "import numpy as np\n",
    "import matplotlib.pyplot as plt\n"
   ]
  },
  {
   "cell_type": "code",
   "execution_count": 111,
   "id": "7f6b89ea",
   "metadata": {},
   "outputs": [],
   "source": [
    "# Create training and test sets\n",
    "features, target = make_classification(n_classes=2, n_features=10, n_samples=1000)\n",
    "features_train, features_tests, target_train, target_test = train_test_split(features, target, test_size=0.1, random_state=1)"
   ]
  },
  {
   "cell_type": "code",
   "execution_count": 112,
   "id": "9bc68857",
   "metadata": {},
   "outputs": [],
   "source": [
    "# Set random seed\n",
    "torch.manual_seed(0)\n",
    "np.random.seed(0)"
   ]
  },
  {
   "cell_type": "code",
   "execution_count": 113,
   "id": "447d432e",
   "metadata": {},
   "outputs": [],
   "source": [
    "# Convert data to PyTorch tensors\n",
    "x_train = torch.from_numpy(features_train).float()\n",
    "y_train = torch.from_numpy(target_train).float().view(-1,1)\n",
    "x_test = torch.from_numpy(features_test).float()\n",
    "y_test = torch.from_numpy(target_test).float().view(-1,1)"
   ]
  },
  {
   "cell_type": "code",
   "execution_count": 114,
   "id": "fa63bf67",
   "metadata": {},
   "outputs": [],
   "source": [
    "# Define neural network using `Sequential`\n",
    "class SimpleNeuralNet(nn.Module):\n",
    "    def __init__(self):\n",
    "        super(SimpleNeuralNet, self).__init__()\n",
    "        self.sequential = torch.nn.Sequential(\n",
    "        torch.nn.Linear(10, 16),\n",
    "        torch.nn.ReLU(),\n",
    "        torch.nn.Linear(16, 16),\n",
    "        torch.nn.ReLU(),\n",
    "        torch.nn.Linear(16, 1),\n",
    "        torch.nn.Sigmoid()        \n",
    "        )\n",
    "    def forward(self, x):\n",
    "        x = self.sequential(x)\n",
    "        return x"
   ]
  },
  {
   "cell_type": "code",
   "execution_count": 115,
   "id": "d636f839",
   "metadata": {},
   "outputs": [],
   "source": [
    "# Initialize neural network\n",
    "network = SimpleNeuralNet()"
   ]
  },
  {
   "cell_type": "code",
   "execution_count": 116,
   "id": "0098595b",
   "metadata": {},
   "outputs": [],
   "source": [
    "# Define loss function, optimizer\n",
    "criterion = nn.BCELoss()\n",
    "optimizer = RMSprop(network.parameters())"
   ]
  },
  {
   "cell_type": "code",
   "execution_count": 117,
   "id": "968124ca",
   "metadata": {},
   "outputs": [],
   "source": [
    "# Define data loader\n",
    "train_data = TensorDataset(x_train, y_train)\n",
    "train_loader = DataLoader(train_data, batch_size=100, shuffle=True)"
   ]
  },
  {
   "cell_type": "code",
   "execution_count": 118,
   "id": "e5fbf8dc",
   "metadata": {},
   "outputs": [],
   "source": [
    "# Compile the model using torch 2.0's optimizer\n",
    "network = torch.compile(network)"
   ]
  },
  {
   "cell_type": "code",
   "execution_count": 119,
   "id": "abe1f85f",
   "metadata": {},
   "outputs": [],
   "source": [
    "# Train neural network\n",
    "epochs = 8\n",
    "train_losses = []\n",
    "test_losses = []\n",
    "for epoch in range(epochs):\n",
    "    for batch_idx, (data, target) in enumerate(train_loader):\n",
    "        optimizer.zero_grad()\n",
    "        output = network(data)\n",
    "        loss = criterion(output, target)\n",
    "        loss.backward()\n",
    "        optimizer.step()\n",
    "\n",
    "    with torch.no_grad():\n",
    "        train_output = network(x_train)\n",
    "        train_loss = criterion(output, target)\n",
    "        train_losses.append(train_loss.item())\n",
    "        \n",
    "        test_output = network(x_test)\n",
    "        test_loss = criterion(test_output, y_test)\n",
    "        test_losses.append(test_loss.item())"
   ]
  },
  {
   "cell_type": "code",
   "execution_count": 120,
   "id": "fcea3264",
   "metadata": {},
   "outputs": [
    {
     "data": {
      "image/png": "[encoded data removed]",
      "text/plain": [
       "<Figure size 640x480 with 1 Axes>"
      ]
     },
     "metadata": {},
     "output_type": "display_data"
    }
   ],
   "source": [
    "# Visualize loss history\n",
    "epochs = range(0, epochs)\n",
    "plt.plot(epochs, train_losses, \"r--\")\n",
    "plt.plot(epochs, test_losses, \"b-\")\n",
    "plt.legend([\"training Loss\", \"Test Loss\"])\n",
    "plt.xlabel(\"Epoch\")\n",
    "plt.ylabel(\"Loss\")\n",
    "plt.show();"
   ]
  },
  {
   "cell_type": "markdown",
   "id": "4e0ac695",
   "metadata": {},
   "source": [
    "# 21.9 Reducing Overfitting with Weight Regularization"
   ]
  },
  {
   "cell_type": "code",
   "execution_count": 130,
   "id": "7de29144",
   "metadata": {},
   "outputs": [],
   "source": [
    "# Import Libraries\n",
    "import torch\n",
    "import torch.nn as nn\n",
    "import numpy as np\n",
    "from torch.utils.data import DataLoader, TensorDataset\n",
    "from torch.optim import RMSprop\n",
    "\n",
    "from sklearn.datasets import make_classification\n",
    "from sklearn.model_selection import train_test_split"
   ]
  },
  {
   "cell_type": "code",
   "execution_count": 131,
   "id": "7d696af6",
   "metadata": {},
   "outputs": [],
   "source": [
    "# Create training and test sets\n",
    "features, target = make_classification(n_classes=2, n_features=10, n_samples=1000)\n",
    "features_train, features_test, target_train, target_test = train_test_split(features, target, test_size=0.1, random_state=1)"
   ]
  },
  {
   "cell_type": "code",
   "execution_count": 132,
   "id": "3d14dec2",
   "metadata": {},
   "outputs": [],
   "source": [
    "# Set random seed\n",
    "torch.manual_seed(0)\n",
    "np.random.seed(0)\n"
   ]
  },
  {
   "cell_type": "code",
   "execution_count": 133,
   "id": "e11b9a02",
   "metadata": {},
   "outputs": [],
   "source": [
    "# Convert data to PyTorch tensors\n",
    "x_train = torch.from_numpy(features_train).float()\n",
    "y_train = torch.from_numpy(target_train).float().view(-1,1)\n",
    "x_test = torch.from_numpy(features_test).float()\n",
    "y_test = torch.from_numpy(target_test).float().view(-1,1)"
   ]
  },
  {
   "cell_type": "code",
   "execution_count": 139,
   "id": "1ba30c0b",
   "metadata": {},
   "outputs": [],
   "source": [
    "# Define a neural network using `Sequential`\n",
    "class SimpleNeuralNet(nn.Module):\n",
    "    def __init__(self):\n",
    "        super(SimpleNeuralNet, self).__init__()\n",
    "        self.sequential = torch.nn.Sequential(\n",
    "        torch.nn.Linear(10,16),\n",
    "        torch.nn.ReLU(),\n",
    "        torch.nn.Linear(16,16),\n",
    "        torch.nn.ReLU(),\n",
    "        torch.nn.Linear(16,1),\n",
    "        torch.nn.Sigmoid(),\n",
    "        )\n",
    "        \n",
    "    def forward(self, x):\n",
    "        x = self.sequential(x)\n",
    "        return x"
   ]
  },
  {
   "cell_type": "code",
   "execution_count": 140,
   "id": "9c65925f",
   "metadata": {},
   "outputs": [],
   "source": [
    "# Initialize the neural network\n",
    "network = SimpleNeuralNet()\n",
    "\n",
    "# Define loss function, optimizer\n",
    "criterion = nn.BCELoss()\n",
    "optimizer = torch.optim.Adam(network.parameters(), lr=1e-4, weight_decay=1e-5)"
   ]
  },
  {
   "cell_type": "code",
   "execution_count": 141,
   "id": "ad52bc09",
   "metadata": {},
   "outputs": [],
   "source": [
    "# Define data loader\n",
    "train_data = TensorDataset(x_train, y_train)\n",
    "train_loader = DataLoader(train_data, batch_size=100, shuffle=True)"
   ]
  },
  {
   "cell_type": "code",
   "execution_count": 142,
   "id": "341ae6c3",
   "metadata": {},
   "outputs": [],
   "source": [
    "#Compile the modle using torch 2.0's optimizer\n",
    "network = torch.compile(network)"
   ]
  },
  {
   "cell_type": "code",
   "execution_count": 143,
   "id": "ef67376a",
   "metadata": {},
   "outputs": [],
   "source": [
    "# Train neural network\n",
    "epochs = 100\n",
    "for epoch in range(epochs):\n",
    "    for batch_idx, (data, target) in enumerate(train_loader):\n",
    "        optimizer.zero_grad()\n",
    "        output = network(data)\n",
    "        loss = criterion(output, target)\n",
    "        loss.backward()\n",
    "        optimizer.step()"
   ]
  },
  {
   "cell_type": "code",
   "execution_count": 144,
   "id": "c5200cea",
   "metadata": {},
   "outputs": [
    {
     "name": "stdout",
     "output_type": "stream",
     "text": [
      "Test Loss: 0.40943652391433716 \tTest Accuracy: 0.9599999785423279\n"
     ]
    }
   ],
   "source": [
    "# Evaluate neural network\n",
    "with torch.no_grad():\n",
    "    output = network(x_test)\n",
    "    test_loss = criterion(output, y_test)\n",
    "    test_accuracy = (output.round() == y_test).float().mean()\n",
    "    print(\"Test Loss:\", test_loss.item(), \"\\tTest Accuracy:\", test_accuracy.item())"
   ]
  },
  {
   "cell_type": "markdown",
   "id": "a4a87ea4",
   "metadata": {},
   "source": [
    "# 21.10 Reducing Overfitting with Early Stopping"
   ]
  },
  {
   "cell_type": "code",
   "execution_count": 147,
   "id": "1c76bfdd",
   "metadata": {},
   "outputs": [],
   "source": [
    "from functools import partial\n",
    "import numpy as np\n",
    "import os\n",
    "import torch\n",
    "import torch.nn as nn\n",
    "import torch.nn.functional as F\n",
    "import torch.optim as optim\n",
    "from torch.utils.data import random_split\n",
    "from ray import tune\n",
    "from ray.tune import CLIReporter\n",
    "from ray.tune.schedulers import ASHAScheduler\n",
    "import torch\n",
    "import torch.nn as nn\n",
    "import numpy as np\n",
    "from torch.utils.data import DataLoader, TensorDataset\n",
    "from torch.optim import RMSprop\n",
    "\n",
    "from sklearn.datasets import make_classification\n",
    "from sklearn.model_selection import train_test_split"
   ]
  },
  {
   "cell_type": "code",
   "execution_count": 148,
   "id": "b69d2058",
   "metadata": {},
   "outputs": [],
   "source": [
    "# Create training and test sets\n",
    "features, target = make_classification(n_classes=2, n_features=10, n_samples=1000)\n",
    "features_train, features_test, target_train, target_test = train_test_split(features, target, test_size=0.1, random_state=1)"
   ]
  },
  {
   "cell_type": "code",
   "execution_count": 149,
   "id": "5e248b00",
   "metadata": {},
   "outputs": [],
   "source": [
    "# Set random seed\n",
    "torch.manual_seed(0)\n",
    "np.random.seed(0)"
   ]
  },
  {
   "cell_type": "code",
   "execution_count": 150,
   "id": "a509df8e",
   "metadata": {},
   "outputs": [],
   "source": [
    "# Convert data to PyTorch tensors\n",
    "x_train = torch.from_numpy(features_train).float()\n",
    "y_train = torch.from_numpy(target_train).float().view(-1,1)\n",
    "x_test = torch.from_numpy(features_train).float()\n",
    "y_test = torch.from_numpy(target_train).float().view(-1,1)"
   ]
  },
  {
   "cell_type": "code",
   "execution_count": 151,
   "id": "b72d6b85",
   "metadata": {},
   "outputs": [],
   "source": [
    "# Define a neural network using `Sequential`\n",
    "class SimpleNeuralNet(nn.Module):\n",
    "    def __init__(self, layer_size_1=10, layer_size_2=10):\n",
    "        super(SimpleNeuralNet, self).__init__()\n",
    "        self.sequential = torch.nn.Sequential(\n",
    "            torch.nn.Linear(10, layer_size_1),\n",
    "            torch.nn.ReLU(),\n",
    "            torch.nn.Linear(layer_size_1, layer_size_2),\n",
    "            torch.nn.ReLU(),\n",
    "            torch.nn.Linear(layer_size_2, 1),\n",
    "            torch.nn.Sigmoid()\n",
    "        )\n",
    "\n",
    "    def forward(self, x):\n",
    "        x = self.sequential(x)\n",
    "        return x\n",
    "    \n",
    "    config = {\n",
    "        \"layer_size_1\": tune.sample_from(lambda _: 2 ** np.random.randomint(2,9)),\n",
    "        \"layer_size_2\": tune.sample_from(lambda _: 2 ** np.random.randomint(2,9)),\n",
    "        \"lr\": tune.loguniform(1e-4, 1e-1),\n",
    "    }\n",
    "    \n",
    "scheduler =ASHAScheduler(\n",
    "metric=\"loss\",\n",
    "mode=\"min\",\n",
    "max_t=1000,\n",
    "grace_period=1,\n",
    "reduction_factor=2)\n",
    "\n",
    "reporter = CLIReporter(\n",
    "parameter_columns=[\"layer_size_1\", \"layer_size_2\", \"lr\"],metric_columns=[\"loss\"])\n"
   ]
  },
  {
   "cell_type": "code",
   "execution_count": 152,
   "id": "955991ef",
   "metadata": {},
   "outputs": [
    {
     "ename": "NameError",
     "evalue": "name 'config' is not defined",
     "output_type": "error",
     "traceback": [
      "\u001b[0;31m---------------------------------------------------------------------------\u001b[0m",
      "\u001b[0;31mNameError\u001b[0m                                 Traceback (most recent call last)",
      "Cell \u001b[0;32mIn[152], line 26\u001b[0m\n\u001b[1;32m     20\u001b[0m             optimizer\u001b[38;5;241m.\u001b[39mstep()\n\u001b[1;32m     21\u001b[0m             tune\u001b[38;5;241m.\u001b[39mreport(loss\u001b[38;5;241m=\u001b[39m(loss\u001b[38;5;241m.\u001b[39mitem()))\n\u001b[1;32m     23\u001b[0m result \u001b[38;5;241m=\u001b[39m tune\u001b[38;5;241m.\u001b[39mrun(\n\u001b[1;32m     24\u001b[0m     train_model,\n\u001b[1;32m     25\u001b[0m     resources_per_trial\u001b[38;5;241m=\u001b[39m{\u001b[38;5;124m\"\u001b[39m\u001b[38;5;124mcpu\u001b[39m\u001b[38;5;124m\"\u001b[39m: \u001b[38;5;241m2\u001b[39m},\n\u001b[0;32m---> 26\u001b[0m     config\u001b[38;5;241m=\u001b[39m\u001b[43mconfig\u001b[49m,\n\u001b[1;32m     27\u001b[0m     num_samples\u001b[38;5;241m=\u001b[39m\u001b[38;5;241m1\u001b[39m,\n\u001b[1;32m     28\u001b[0m     scheduler\u001b[38;5;241m=\u001b[39mscheduler,\n\u001b[1;32m     29\u001b[0m     progress_reporter\u001b[38;5;241m=\u001b[39mreporter\n\u001b[1;32m     30\u001b[0m )\n\u001b[1;32m     32\u001b[0m best_trial \u001b[38;5;241m=\u001b[39m result\u001b[38;5;241m.\u001b[39mget_best_trial(\u001b[38;5;124m\"\u001b[39m\u001b[38;5;124mloss\u001b[39m\u001b[38;5;124m\"\u001b[39m, \u001b[38;5;124m\"\u001b[39m\u001b[38;5;124mmin\u001b[39m\u001b[38;5;124m\"\u001b[39m, \u001b[38;5;124m\"\u001b[39m\u001b[38;5;124mlast\u001b[39m\u001b[38;5;124m\"\u001b[39m)\n\u001b[1;32m     33\u001b[0m \u001b[38;5;28mprint\u001b[39m(\u001b[38;5;124m\"\u001b[39m\u001b[38;5;124mBest trial config: \u001b[39m\u001b[38;5;132;01m{}\u001b[39;00m\u001b[38;5;124m\"\u001b[39m\u001b[38;5;241m.\u001b[39mformat(best_trial\u001b[38;5;241m.\u001b[39mconfig))\n",
      "\u001b[0;31mNameError\u001b[0m: name 'config' is not defined"
     ]
    }
   ],
   "source": [
    "# Train neural network\n",
    "def train_model(config, epochs=3):\n",
    "    network = SimpleNeuralnet(config[\"layer_size_1\"], config[\"layer_size_2\"])\n",
    "    \n",
    "    criterion = nn.BCELoss()\n",
    "    optimizer = optim.SGD(network.parameters(), lr=config[\"lr\"], momentum=0.9)\n",
    "    \n",
    "    train_data = TensorDataset(x_train, y_train)\n",
    "    train_loader = DataLoader(train_data, batch_size=100, shuffle=True)\n",
    "\n",
    "    # Compile the model using torch 2.0's optimizer\n",
    "    network = torch.compile(network)\n",
    "\n",
    "    for epoch in range(epochs):\n",
    "        for batch_idx, (data, target) in enumerate(train_loader):\n",
    "            optimizer.zero_grad()\n",
    "            output = network(data)\n",
    "            loss = criterion(output, target)\n",
    "            loss.backward()\n",
    "            optimizer.step()\n",
    "            tune.report(loss=(loss.item()))\n",
    "\n",
    "result = tune.run(\n",
    "    train_model,\n",
    "    resources_per_trial={\"cpu\": 2},\n",
    "    config=config,\n",
    "    num_samples=1,\n",
    "    scheduler=scheduler,\n",
    "    progress_reporter=reporter\n",
    ")\n",
    "\n",
    "best_trial = result.get_best_trial(\"loss\", \"min\", \"last\")\n",
    "print(\"Best trial config: {}\".format(best_trial.config))\n",
    "print(\"Best trial final validation loss: {}\".format(\n",
    "    best_trial.last_result[\"loss\"]))\n",
    "\n",
    "best_trained_model = SimpleNeuralNet(best_trial.config[\"layer_size_1\"], best_trial.config[\"layer_size_2\"])"
   ]
  },
  {
   "cell_type": "markdown",
   "id": "1ff83c43",
   "metadata": {},
   "source": [
    "# 21.11 Reducing Overfitting with Dropout"
   ]
  },
  {
   "cell_type": "markdown",
   "id": "9546b6c9",
   "metadata": {},
   "source": [
    "# 21.12 Saving Model Training Progress"
   ]
  },
  {
   "cell_type": "markdown",
   "id": "10f47417",
   "metadata": {},
   "source": [
    "# 21.13 Tuning Neural Networks"
   ]
  },
  {
   "cell_type": "markdown",
   "id": "7eefefcc",
   "metadata": {},
   "source": [
    "# 21.14 Visualizing Neural Networks"
   ]
  },
  {
   "cell_type": "code",
   "execution_count": null,
   "id": "689e88b2",
   "metadata": {},
   "outputs": [],
   "source": []
  }
 ],
 "metadata": {
  "kernelspec": {
   "display_name": "Python 3 (ipykernel)",
   "language": "python",
   "name": "python3"
  },
  "language_info": {
   "codemirror_mode": {
    "name": "ipython",
    "version": 3
   },
   "file_extension": ".py",
   "mimetype": "text/x-python",
   "name": "python",
   "nbconvert_exporter": "python",
   "pygments_lexer": "ipython3",
   "version": "3.10.12"
  }
 },
 "nbformat": 4,
 "nbformat_minor": 5
}
