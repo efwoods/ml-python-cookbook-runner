{
 "cells": [
  {
   "cell_type": "markdown",
   "id": "a2537f55",
   "metadata": {},
   "source": [
    "# Creating a Tensor"
   ]
  },
  {
   "cell_type": "code",
   "execution_count": 1,
   "id": "6584aac8",
   "metadata": {},
   "outputs": [],
   "source": [
    "# Load library\n",
    "import torch"
   ]
  },
  {
   "cell_type": "code",
   "execution_count": 2,
   "id": "a3b12204",
   "metadata": {},
   "outputs": [
    {
     "data": {
      "text/plain": [
       "tensor([1, 2, 3])"
      ]
     },
     "execution_count": 2,
     "metadata": {},
     "output_type": "execute_result"
    }
   ],
   "source": [
    "# Create a vector as a row\n",
    "tensor_row = torch.tensor([1,2,3])\n",
    "tensor_row"
   ]
  },
  {
   "cell_type": "code",
   "execution_count": 3,
   "id": "d1a2fff1",
   "metadata": {},
   "outputs": [
    {
     "data": {
      "text/plain": [
       "tensor([[1],\n",
       "        [2],\n",
       "        [3]])"
      ]
     },
     "execution_count": 3,
     "metadata": {},
     "output_type": "execute_result"
    }
   ],
   "source": [
    "# Create a vector as a column\n",
    "tensor_column = torch.tensor([[1],[2],[3]])\n",
    "tensor_column"
   ]
  },
  {
   "cell_type": "markdown",
   "id": "33fdf907",
   "metadata": {},
   "source": [
    "# Creating a Tensor from Numpy"
   ]
  },
  {
   "cell_type": "code",
   "execution_count": 4,
   "id": "56f47a93",
   "metadata": {},
   "outputs": [],
   "source": [
    "import numpy as np\n",
    "import torch"
   ]
  },
  {
   "cell_type": "code",
   "execution_count": 6,
   "id": "3718636f",
   "metadata": {},
   "outputs": [
    {
     "data": {
      "text/plain": [
       "array([1, 2, 3])"
      ]
     },
     "execution_count": 6,
     "metadata": {},
     "output_type": "execute_result"
    }
   ],
   "source": [
    "vector_row = np.array([1,2,3])\n",
    "vector_row"
   ]
  },
  {
   "cell_type": "code",
   "execution_count": 8,
   "id": "bc4e9b11",
   "metadata": {},
   "outputs": [
    {
     "data": {
      "text/plain": [
       "tensor([1, 2, 3])"
      ]
     },
     "execution_count": 8,
     "metadata": {},
     "output_type": "execute_result"
    }
   ],
   "source": [
    "tensor_row = torch.from_numpy(vector_row)\n",
    "tensor_row"
   ]
  },
  {
   "cell_type": "markdown",
   "id": "fc8df845",
   "metadata": {},
   "source": [
    "# Creating a Sparse Tensor"
   ]
  },
  {
   "cell_type": "code",
   "execution_count": 15,
   "id": "13461c8e",
   "metadata": {},
   "outputs": [
    {
     "data": {
      "text/plain": [
       "tensor(indices=tensor([[1, 2],\n",
       "                       [1, 0]]),\n",
       "       values=tensor([1, 3]),\n",
       "       size=(3, 2), nnz=2, layout=torch.sparse_coo)"
      ]
     },
     "execution_count": 15,
     "metadata": {},
     "output_type": "execute_result"
    }
   ],
   "source": [
    "import torch\n",
    "\n",
    "tensor = torch.tensor([\n",
    "    [0,0],\n",
    "    [0,1],\n",
    "    [3,0]\n",
    "])\n",
    "sparse_tensor = tensor.to_sparse()\n",
    "sparse_tensor"
   ]
  },
  {
   "cell_type": "code",
   "execution_count": 16,
   "id": "b29f28df",
   "metadata": {},
   "outputs": [
    {
     "name": "stdout",
     "output_type": "stream",
     "text": [
      "<class 'torch.Tensor'>\n",
      "<class 'torch.Tensor'>\n"
     ]
    }
   ],
   "source": [
    "print(type(tensor))\n",
    "print(type(sparse_tensor))"
   ]
  },
  {
   "cell_type": "markdown",
   "id": "ff5b01a5",
   "metadata": {},
   "source": [
    "# Selecting Elements in a Tensor"
   ]
  },
  {
   "cell_type": "code",
   "execution_count": 18,
   "id": "bd7ae62b",
   "metadata": {},
   "outputs": [],
   "source": [
    "# Load library\n",
    "import torch"
   ]
  },
  {
   "cell_type": "code",
   "execution_count": 22,
   "id": "e2acd1ac",
   "metadata": {},
   "outputs": [
    {
     "data": {
      "text/plain": [
       "tensor(3)"
      ]
     },
     "execution_count": 22,
     "metadata": {},
     "output_type": "execute_result"
    }
   ],
   "source": [
    "# Create vector tensor\n",
    "vector = torch.tensor([1,2,3,4,5,6])\n",
    "\n",
    "# Create matrix tensor\n",
    "matrix = torch.tensor([\n",
    "    [1,2,3],\n",
    "    [4,5,6],\n",
    "    [7,8,9]\n",
    "])\n",
    "\n",
    "# Select the third element of vector\n",
    "vector[2]"
   ]
  },
  {
   "cell_type": "code",
   "execution_count": 23,
   "id": "3d2ec6f4",
   "metadata": {},
   "outputs": [
    {
     "data": {
      "text/plain": [
       "tensor(5)"
      ]
     },
     "execution_count": 23,
     "metadata": {},
     "output_type": "execute_result"
    }
   ],
   "source": [
    "# Select second row, second column\n",
    "matrix[1,1]"
   ]
  },
  {
   "cell_type": "code",
   "execution_count": 25,
   "id": "a0654408",
   "metadata": {},
   "outputs": [
    {
     "data": {
      "text/plain": [
       "tensor([1, 2, 3])"
      ]
     },
     "execution_count": 25,
     "metadata": {},
     "output_type": "execute_result"
    }
   ],
   "source": [
    "# Select all elements of a vector\n",
    "vector[:3]"
   ]
  },
  {
   "cell_type": "code",
   "execution_count": 26,
   "id": "0ff4c9d4",
   "metadata": {},
   "outputs": [
    {
     "data": {
      "text/plain": [
       "tensor([4, 5, 6])"
      ]
     },
     "execution_count": 26,
     "metadata": {},
     "output_type": "execute_result"
    }
   ],
   "source": [
    "# Select everything after the third element\n",
    "vector[3:]"
   ]
  },
  {
   "cell_type": "code",
   "execution_count": 27,
   "id": "5f2abe0c",
   "metadata": {},
   "outputs": [
    {
     "data": {
      "text/plain": [
       "tensor(6)"
      ]
     },
     "execution_count": 27,
     "metadata": {},
     "output_type": "execute_result"
    }
   ],
   "source": [
    "# Select the last element\n",
    "vector[-1]"
   ]
  },
  {
   "cell_type": "code",
   "execution_count": 28,
   "id": "139c482d",
   "metadata": {},
   "outputs": [
    {
     "data": {
      "text/plain": [
       "tensor([[1, 2, 3],\n",
       "        [4, 5, 6]])"
      ]
     },
     "execution_count": 28,
     "metadata": {},
     "output_type": "execute_result"
    }
   ],
   "source": [
    "# Select the first two rows and all columns of a matrix\n",
    "matrix[:2,:]"
   ]
  },
  {
   "cell_type": "code",
   "execution_count": 29,
   "id": "6449ca5d",
   "metadata": {},
   "outputs": [
    {
     "data": {
      "text/plain": [
       "tensor([[2],\n",
       "        [5],\n",
       "        [8]])"
      ]
     },
     "execution_count": 29,
     "metadata": {},
     "output_type": "execute_result"
    }
   ],
   "source": [
    "# Select all rows and the second column\n",
    "matrix[:,1:2]"
   ]
  },
  {
   "cell_type": "code",
   "execution_count": 31,
   "id": "c6bd59d2",
   "metadata": {},
   "outputs": [
    {
     "ename": "ValueError",
     "evalue": "step must be greater than zero",
     "output_type": "error",
     "traceback": [
      "\u001b[0;31m---------------------------------------------------------------------------\u001b[0m",
      "\u001b[0;31mValueError\u001b[0m                                Traceback (most recent call last)",
      "Cell \u001b[0;32mIn[31], line 3\u001b[0m\n\u001b[1;32m      1\u001b[0m \u001b[38;5;66;03m# Reverse the vector: notice PyTorch tensors do not support negative indexes when slicing. \u001b[39;00m\n\u001b[1;32m      2\u001b[0m \u001b[38;5;66;03m# Therefore attempting to reverse a vector results in this error.\u001b[39;00m\n\u001b[0;32m----> 3\u001b[0m \u001b[43mvector\u001b[49m\u001b[43m[\u001b[49m\u001b[43m:\u001b[49m\u001b[43m:\u001b[49m\u001b[38;5;241;43m-\u001b[39;49m\u001b[38;5;241;43m1\u001b[39;49m\u001b[43m]\u001b[49m\n",
      "\u001b[0;31mValueError\u001b[0m: step must be greater than zero"
     ]
    }
   ],
   "source": [
    "# Reverse the vector: notice PyTorch tensors do not support negative indexes when slicing. \n",
    "# Therefore attempting to reverse a vector results in this error.\n",
    "vector[::-1]"
   ]
  },
  {
   "cell_type": "code",
   "execution_count": 32,
   "id": "423acda7",
   "metadata": {},
   "outputs": [
    {
     "data": {
      "text/plain": [
       "tensor([6, 5, 4, 3, 2, 1])"
      ]
     },
     "execution_count": 32,
     "metadata": {},
     "output_type": "execute_result"
    }
   ],
   "source": [
    "# To Reverse a vector:\n",
    "vector.flip(dims=(-1,))"
   ]
  },
  {
   "cell_type": "markdown",
   "id": "2768b2b4",
   "metadata": {},
   "source": [
    "# Describing a Tensor"
   ]
  },
  {
   "cell_type": "code",
   "execution_count": 33,
   "id": "3ebd821c",
   "metadata": {},
   "outputs": [],
   "source": [
    "# Load library\n",
    "import torch"
   ]
  },
  {
   "cell_type": "code",
   "execution_count": 34,
   "id": "a47a267b",
   "metadata": {},
   "outputs": [],
   "source": [
    "# Create a tensor\n",
    "tensor = torch.tensor([[1,2,3], [1,2,3]])"
   ]
  },
  {
   "cell_type": "code",
   "execution_count": 35,
   "id": "09285082",
   "metadata": {},
   "outputs": [
    {
     "data": {
      "text/plain": [
       "torch.Size([2, 3])"
      ]
     },
     "execution_count": 35,
     "metadata": {},
     "output_type": "execute_result"
    }
   ],
   "source": [
    "# Describe the shape of a tensor\n",
    "tensor.shape"
   ]
  },
  {
   "cell_type": "code",
   "execution_count": 36,
   "id": "7fbba0eb",
   "metadata": {},
   "outputs": [
    {
     "data": {
      "text/plain": [
       "torch.int64"
      ]
     },
     "execution_count": 36,
     "metadata": {},
     "output_type": "execute_result"
    }
   ],
   "source": [
    "# Get the datatype of items in the tensor\n",
    "tensor.dtype"
   ]
  },
  {
   "cell_type": "code",
   "execution_count": 38,
   "id": "924e933f",
   "metadata": {},
   "outputs": [
    {
     "data": {
      "text/plain": [
       "torch.strided"
      ]
     },
     "execution_count": 38,
     "metadata": {},
     "output_type": "execute_result"
    }
   ],
   "source": [
    "# Get the layout of the tensor (strided vs. sparse)\n",
    "tensor.layout"
   ]
  },
  {
   "cell_type": "code",
   "execution_count": 39,
   "id": "ace52093",
   "metadata": {},
   "outputs": [
    {
     "data": {
      "text/plain": [
       "device(type='cpu')"
      ]
     },
     "execution_count": 39,
     "metadata": {},
     "output_type": "execute_result"
    }
   ],
   "source": [
    "# Get the device being used by the tensor\n",
    "tensor.device"
   ]
  },
  {
   "cell_type": "markdown",
   "id": "adda2ca9",
   "metadata": {},
   "source": [
    "# Applying Operations to Elements"
   ]
  },
  {
   "cell_type": "code",
   "execution_count": 40,
   "id": "6a5212d4",
   "metadata": {},
   "outputs": [],
   "source": [
    "# Load library\n",
    "import torch"
   ]
  },
  {
   "cell_type": "code",
   "execution_count": 41,
   "id": "97688d12",
   "metadata": {},
   "outputs": [],
   "source": [
    "# Create a tensor\n",
    "tensor = torch.tensor([1,2,3])"
   ]
  },
  {
   "cell_type": "code",
   "execution_count": 42,
   "id": "73a73c13",
   "metadata": {},
   "outputs": [
    {
     "data": {
      "text/plain": [
       "tensor([100, 200, 300])"
      ]
     },
     "execution_count": 42,
     "metadata": {},
     "output_type": "execute_result"
    }
   ],
   "source": [
    "# Broadcast an arithmetic operation to all elements in a tensor\n",
    "tensor * 100"
   ]
  },
  {
   "cell_type": "code",
   "execution_count": 43,
   "id": "f2807e1d",
   "metadata": {},
   "outputs": [],
   "source": [
    "# Load library\n",
    "import torch"
   ]
  },
  {
   "cell_type": "code",
   "execution_count": 44,
   "id": "fc3bbdda",
   "metadata": {},
   "outputs": [
    {
     "data": {
      "text/plain": [
       "tensor(3)"
      ]
     },
     "execution_count": 44,
     "metadata": {},
     "output_type": "execute_result"
    }
   ],
   "source": [
    "# Create a tensor\n",
    "torch.tensor([1,2,3])\n",
    "\n",
    "# Find the largest value\n",
    "tensor.max()"
   ]
  },
  {
   "cell_type": "code",
   "execution_count": 46,
   "id": "8ffad1d5",
   "metadata": {},
   "outputs": [
    {
     "data": {
      "text/plain": [
       "tensor(1)"
      ]
     },
     "execution_count": 46,
     "metadata": {},
     "output_type": "execute_result"
    }
   ],
   "source": [
    "# Find the smallest value\n",
    "tensor.min()"
   ]
  },
  {
   "cell_type": "code",
   "execution_count": 47,
   "id": "ca08ff55",
   "metadata": {},
   "outputs": [],
   "source": [
    "# Create a multidimensional tensor\n",
    "tensor = torch.tensor([[1,2,3],[1,2,5]])"
   ]
  },
  {
   "cell_type": "code",
   "execution_count": 49,
   "id": "d50febb0",
   "metadata": {},
   "outputs": [
    {
     "data": {
      "text/plain": [
       "tensor(5)"
      ]
     },
     "execution_count": 49,
     "metadata": {},
     "output_type": "execute_result"
    }
   ],
   "source": [
    "tensor.max()"
   ]
  },
  {
   "cell_type": "markdown",
   "id": "b6d42921",
   "metadata": {},
   "source": [
    "# Reshaping Tensors"
   ]
  },
  {
   "cell_type": "code",
   "execution_count": 50,
   "id": "71253ca6",
   "metadata": {},
   "outputs": [],
   "source": [
    "# Load library\n",
    "import torch"
   ]
  },
  {
   "cell_type": "code",
   "execution_count": 54,
   "id": "addc3c95",
   "metadata": {},
   "outputs": [
    {
     "data": {
      "text/plain": [
       "torch.Size([4, 3])"
      ]
     },
     "execution_count": 54,
     "metadata": {},
     "output_type": "execute_result"
    }
   ],
   "source": [
    "# Create 4x3 tensor\n",
    "tensor = torch.tensor([[1,2,3],[4,5,6],[7,8,9],[10,11,12]])\n",
    "tensor.shape"
   ]
  },
  {
   "cell_type": "code",
   "execution_count": 58,
   "id": "f9b73c5e",
   "metadata": {},
   "outputs": [
    {
     "data": {
      "text/plain": [
       "tensor([[ 1,  2,  3,  4,  5,  6],\n",
       "        [ 7,  8,  9, 10, 11, 12]])"
      ]
     },
     "execution_count": 58,
     "metadata": {},
     "output_type": "execute_result"
    }
   ],
   "source": [
    "tensor.reshape(2,6)"
   ]
  },
  {
   "cell_type": "code",
   "execution_count": 60,
   "id": "ee8170a1",
   "metadata": {},
   "outputs": [
    {
     "data": {
      "text/plain": [
       "torch.Size([2, 6])"
      ]
     },
     "execution_count": 60,
     "metadata": {},
     "output_type": "execute_result"
    }
   ],
   "source": [
    "tensor.reshape(2,6).shape"
   ]
  },
  {
   "cell_type": "markdown",
   "id": "f649a967",
   "metadata": {},
   "source": [
    "# Transposing a Tensor"
   ]
  },
  {
   "cell_type": "code",
   "execution_count": 62,
   "id": "f057f1b3",
   "metadata": {},
   "outputs": [],
   "source": [
    "# Load library\n",
    "import torch"
   ]
  },
  {
   "cell_type": "code",
   "execution_count": 63,
   "id": "d2c98a25",
   "metadata": {},
   "outputs": [],
   "source": [
    "# Create a 2-dimensional tensor\n",
    "tensor = torch.tensor([[[1,2,3]]])"
   ]
  },
  {
   "cell_type": "code",
   "execution_count": 64,
   "id": "69dd9c5c",
   "metadata": {},
   "outputs": [
    {
     "data": {
      "text/plain": [
       "tensor([[[1],\n",
       "         [2],\n",
       "         [3]]])"
      ]
     },
     "execution_count": 64,
     "metadata": {},
     "output_type": "execute_result"
    }
   ],
   "source": [
    "# Transpose the tensor\n",
    "tensor.mT"
   ]
  },
  {
   "cell_type": "code",
   "execution_count": 65,
   "id": "aa039294",
   "metadata": {},
   "outputs": [
    {
     "data": {
      "text/plain": [
       "tensor([[[1]],\n",
       "\n",
       "        [[2]],\n",
       "\n",
       "        [[3]]])"
      ]
     },
     "execution_count": 65,
     "metadata": {},
     "output_type": "execute_result"
    }
   ],
   "source": [
    "# An additional way to transpose PyTorch tensors of any shape\n",
    "tensor.permute(*torch.arange(tensor.ndim -1, -1, -1))"
   ]
  },
  {
   "cell_type": "markdown",
   "id": "60d2814d",
   "metadata": {},
   "source": [
    "# Flattening a Tensor"
   ]
  },
  {
   "cell_type": "code",
   "execution_count": 67,
   "id": "637fb49f",
   "metadata": {},
   "outputs": [],
   "source": [
    "# Load library\n",
    "import torch"
   ]
  },
  {
   "cell_type": "code",
   "execution_count": 68,
   "id": "94920e29",
   "metadata": {},
   "outputs": [
    {
     "data": {
      "text/plain": [
       "tensor([1, 2, 3, 4, 5, 6, 7, 8, 9])"
      ]
     },
     "execution_count": 68,
     "metadata": {},
     "output_type": "execute_result"
    }
   ],
   "source": [
    "# Create tensor\n",
    "tensor = torch.tensor([[1,2,3],[4,5,6],[7,8,9]])\n",
    "\n",
    "# Flatten tensor\n",
    "tensor.flatten()"
   ]
  },
  {
   "cell_type": "markdown",
   "id": "46efaaf2",
   "metadata": {},
   "source": [
    "# Calculating Dot Products"
   ]
  },
  {
   "cell_type": "code",
   "execution_count": 70,
   "id": "77858d17",
   "metadata": {},
   "outputs": [],
   "source": [
    "# Load library\n",
    "import torch\n",
    "\n",
    "# Create one tensor\n",
    "tensor_1 = torch.tensor([1,2,3])\n",
    "\n",
    "# Create another tensor\n",
    "tensor_2 = torch.tensor([4,5,6])"
   ]
  },
  {
   "cell_type": "code",
   "execution_count": 71,
   "id": "f614e55f",
   "metadata": {},
   "outputs": [
    {
     "data": {
      "text/plain": [
       "tensor(32)"
      ]
     },
     "execution_count": 71,
     "metadata": {},
     "output_type": "execute_result"
    }
   ],
   "source": [
    "# Calculate the dot product of the two tensors\n",
    "tensor_1.dot(tensor_2)"
   ]
  },
  {
   "cell_type": "markdown",
   "id": "20621bfe",
   "metadata": {},
   "source": [
    "# Multiplying Tensors"
   ]
  },
  {
   "cell_type": "code",
   "execution_count": 73,
   "id": "5df30ebb",
   "metadata": {},
   "outputs": [
    {
     "data": {
      "text/plain": [
       "tensor([ 4, 10, 18])"
      ]
     },
     "execution_count": 73,
     "metadata": {},
     "output_type": "execute_result"
    }
   ],
   "source": [
    "# Load library\n",
    "import torch\n",
    "\n",
    "# Create one tensor\n",
    "tensor_1 = torch.tensor([1,2,3])\n",
    "\n",
    "# Create another tensor\n",
    "tensor_2 = torch.tensor([4,5,6])\n",
    "\n",
    "# Multiply the two tensors\n",
    "tensor_1 * tensor_2"
   ]
  },
  {
   "cell_type": "code",
   "execution_count": 75,
   "id": "e19f2bb2",
   "metadata": {},
   "outputs": [
    {
     "data": {
      "text/plain": [
       "tensor([5, 7, 9])"
      ]
     },
     "execution_count": 75,
     "metadata": {},
     "output_type": "execute_result"
    }
   ],
   "source": [
    "# adding one tensor to another:\n",
    "tensor_1 + tensor_2"
   ]
  },
  {
   "cell_type": "code",
   "execution_count": 76,
   "id": "ccd94a48",
   "metadata": {},
   "outputs": [
    {
     "data": {
      "text/plain": [
       "tensor([-3, -3, -3])"
      ]
     },
     "execution_count": 76,
     "metadata": {},
     "output_type": "execute_result"
    }
   ],
   "source": [
    "# subtracting one tensor from another:\n",
    "tensor_1-tensor_2"
   ]
  },
  {
   "cell_type": "code",
   "execution_count": 77,
   "id": "435172e2",
   "metadata": {},
   "outputs": [
    {
     "data": {
      "text/plain": [
       "tensor([0.2500, 0.4000, 0.5000])"
      ]
     },
     "execution_count": 77,
     "metadata": {},
     "output_type": "execute_result"
    }
   ],
   "source": [
    "# divide one tensor by another:\n",
    "tensor_1/tensor_2"
   ]
  },
  {
   "cell_type": "code",
   "execution_count": null,
   "id": "c54089bd",
   "metadata": {},
   "outputs": [],
   "source": []
  },
  {
   "cell_type": "code",
   "execution_count": null,
   "id": "2a406ef8",
   "metadata": {},
   "outputs": [],
   "source": []
  }
 ],
 "metadata": {
  "kernelspec": {
   "display_name": "Python 3 (ipykernel)",
   "language": "python",
   "name": "python3"
  },
  "language_info": {
   "codemirror_mode": {
    "name": "ipython",
    "version": 3
   },
   "file_extension": ".py",
   "mimetype": "text/x-python",
   "name": "python",
   "nbconvert_exporter": "python",
   "pygments_lexer": "ipython3",
   "version": "3.10.12"
  }
 },
 "nbformat": 4,
 "nbformat_minor": 5
}
